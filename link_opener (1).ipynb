{
  "nbformat": 4,
  "nbformat_minor": 0,
  "metadata": {
    "colab": {
      "provenance": []
    },
    "kernelspec": {
      "name": "python3",
      "display_name": "Python 3"
    },
    "language_info": {
      "name": "python"
    }
  },
  "cells": [
    {
      "cell_type": "code",
      "source": [
        "import re\n",
        "import webbrowser\n",
        "import time\n",
        "from IPython.display import Javascript\n",
        "from IPython.display import HTML\n"
      ],
      "metadata": {
        "id": "vDHHdy13W5Ua"
      },
      "execution_count": null,
      "outputs": []
    },
    {
      "cell_type": "code",
      "source": [
        "# 接龙可以直接复制粘贴在这里\n",
        "text_with_links = \"\"\"\n",
        "少粘贴一点不然会很卡！\n",
        "\"\"\""
      ],
      "metadata": {
        "id": "2i0TXyt_XHb8"
      },
      "execution_count": null,
      "outputs": []
    },
    {
      "cell_type": "code",
      "source": [
        "#寻找链接 支持https和www\n",
        "pattern = r'(?:https?://|www\\.)[^\\s<>\"\\']*'\n",
        "links = re.findall(pattern, text_with_links, re.IGNORECASE)"
      ],
      "metadata": {
        "id": "ZZmp6SVoXKIs"
      },
      "execution_count": null,
      "outputs": []
    },
    {
      "cell_type": "code",
      "source": [
        "#统一格式\n",
        "i = 0\n",
        "while i < len(links):\n",
        "    if links[i].startswith('www.'):\n",
        "        links[i] = 'http://' + links[i]\n",
        "    i += 1"
      ],
      "metadata": {
        "id": "15CIS-XuXUCH"
      },
      "execution_count": null,
      "outputs": []
    },
    {
      "cell_type": "code",
      "source": [
        "# #本地跑这个\n",
        "# for link in links:\n",
        "#   print(\"Opening: {link}\")\n",
        "#   try:\n",
        "#       webbrowser.open(link)\n",
        "#       time.sleep(0.5)\n",
        "#   except Exception as e:\n",
        "#       print(f\"Error opening {link}: {e}\")\n",
        "\n",
        "\n",
        "# #colab跑这个\n",
        "# #colab会有点开这个文件所有text_with_links自动打开的问题 要注意\n",
        "# js = '\\n'.join([f'window.open(\"{link}\", \"_blank\");' for link in links])\n",
        "# display(HTML(f'<script>{js}</script>'))"
      ],
      "metadata": {
        "colab": {
          "base_uri": "https://localhost:8080/",
          "height": 17
        },
        "id": "8xMa04BBYHAF",
        "outputId": "6f118b67-e71c-43b3-fd2f-a4d93cf1e7a4"
      },
      "execution_count": null,
      "outputs": [
        {
          "output_type": "display_data",
          "data": {
            "text/plain": [
              "<IPython.core.display.HTML object>"
            ],
            "text/html": [
              "<script>window.open(\"https://www.linkedin.com/in/mollyyqiann\", \"_blank\");\n",
              "window.open(\"https://www.linkedin.com/in/riya-li-5a5702276\", \"_blank\");\n",
              "window.open(\"http://www.linkedin.com/in/shiyihuang0516\", \"_blank\");\n",
              "window.open(\"https://www.linkedin.com/in/serena-han-537b9b332\", \"_blank\");\n",
              "window.open(\"https://www.linkedin.com/in/xiao-yang-473984286\", \"_blank\");\n",
              "window.open(\"https://www.linkedin.com/in/zhirou-angelina-han-7779a520b?\", \"_blank\");\n",
              "window.open(\"https://www.linkedin.com/in/zella-cai-913539266?utm_source=share&utm_campaign=share_via&utm_content=profile&utm_medium=ios_app\", \"_blank\");\n",
              "window.open(\"http://www.linkedin.com/in/keyang-gu-b91281212\", \"_blank\");\n",
              "window.open(\"http://www.linkedin.com/in/keshu-coco-xiang\", \"_blank\");\n",
              "window.open(\"http://linkedin.com/in/rannuo-dora-du\", \"_blank\");</script>"
            ]
          },
          "metadata": {}
        }
      ]
    },
    {
      "cell_type": "code",
      "source": [],
      "metadata": {
        "id": "r9jZrBDAeu5g"
      },
      "execution_count": null,
      "outputs": []
    }
  ]
}